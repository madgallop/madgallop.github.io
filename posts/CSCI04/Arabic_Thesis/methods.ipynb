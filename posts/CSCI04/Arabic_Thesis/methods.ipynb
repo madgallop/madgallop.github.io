{
 "cells": [
  {
   "cell_type": "raw",
   "id": "c6dc93d5-4588-4676-948c-1c66175232ee",
   "metadata": {},
   "source": [
    "---\n",
    "title: Arabic Senior Thesis Methodology\n",
    "bibliography: refs.bib\n",
    "image: lebnon1.jpg\n",
    "author: Madeleine Gallop\n",
    "date: '2024-01-27'\n",
    "description: \"This document contains the methods and references used in my senior Arabic thesis about economic protests in Lebanon since 1987.\"\n",
    "format: html\n",
    "nocite: |\n",
    "  @*\n",
    "---"
   ]
  },
  {
   "attachments": {},
   "cell_type": "markdown",
   "id": "1c0f1a04-7bbb-4e8e-8cfe-d4f75f0a2a1a",
   "metadata": {
    "tags": []
   },
   "source": [
    "[Link to project](https://storymaps.arcgis.com/stories/d8e77aab27d34b259d826d412c0d1a0d)\n",
    "\n",
    "### Methodology\n",
    "In order to delve into the socio-economic developments in Lebanon since the end of the Lebanese Civil War and explore the protests related to economic distress, I employed a multi-faceted approach combining Geographic Information Systems (GIS) technology, data scraping, and cartographic design.\n",
    "\n",
    "1. Data Collection:\n",
    "\n",
    "- Leveraging my background as a double major in Geography and Arabic, I conducted an extensive search for articles related to protests, economy, and Lebanon in both English and Arabic. Working with my roommate Nikki Sadat using Python scripts developed by Professor Eric Bleisch, I text scraped archival newspapers, collecting around 8,000 articles from various sources including the New York Times, Aljezeera, Lebanon Daily Star, Jerusalem Post, Toronto Star, As-Safir, and An-Nahar.\n",
    "\n",
    "2. Data Filtering:\n",
    "\n",
    "- From the initial dataset, I narrowed down the results to approximately 800 articles by selecting those that directly addressed economic protests in Lebanon. After a detailed manual review, I further refined the dataset to around 100 articles that closely aligned with the focus of my project.\n",
    "\n",
    "3. GIS Mapping:\n",
    "\n",
    "- To visually represent the historical context and protest events, I utilized QGIS to create map layers. Multipoint layers were employed for protests occurring in specific locations, while polygon layers buffered the outline of Lebanon to visualize national protests. These shapefiles were then imported into ArcGIS Online, where I customized the map to break away from the typical ArcGIS Story Maps style.\n",
    "\n",
    "4. Cartographic Design:\n",
    "\n",
    "- Drawing inspiration from a Cartographic Design course, I incorporated a scrolly map design using Mapbox for the base map. Styling the map with newspaper fonts and colors reflective of the data, I imported the base map into ArcGIS Online. I employed a red-black-and-white color scheme, using red cedar trees from Lebanon's flag as icons to represent protest events. The map aimed to convey a sense of unity among the Lebanese people during demonstrations.\n",
    "\n",
    "5. Period Summaries:\n",
    "\n",
    "- For each distinct period in Lebanon's recent history, I wrote summaries based on information from the newspaper articles and from prior readings in the course Food Security in Lebanon, taken in Fall 2023. These summaries aimed to elucidate the social and economic trends that were directly related to the protest events represented on the map.\n",
    "\n",
    "6. Quote Integration:\n",
    "\n",
    "- Throughout the research process, I recorded quotes from protestors, slogans, and powerful commentary related to economic protests in Lebanon. To humanize the events, these quotes were integrated into the map as an autoplaying looped background, providing insight into the sentiments and emotions expressed during the various periods. This approach aims to elevate the voices of those affected by Lebanon's economic conditions and engage the audience in the human aspect of the protests.\n",
    "\n",
    "By combining these methods, the interactive map-based story seeks to offer a comprehensive and engaging exploration of economic and food-related protests in Lebanon since 1987. The integration of quotes and the visual representation of protest events contribute to a nuanced understanding of the unity among diverse groups during times of economic distress in Lebanon.\n",
    "\n",
    "A note about sources: The final ArcGIS map includes data from over 100 articles. The news sources are cited below, and the articles were found using NexisUni, with a subscription provided by Middlebury College. "
   ]
  },
  {
   "cell_type": "markdown",
   "id": "9d50c855",
   "metadata": {},
   "source": []
  }
 ],
 "metadata": {
  "kernelspec": {
   "display_name": "Python [conda env:ml-0451] *",
   "language": "python",
   "name": "conda-env-ml-0451-py"
  },
  "language_info": {
   "codemirror_mode": {
    "name": "ipython",
    "version": 3
   },
   "file_extension": ".py",
   "mimetype": "text/x-python",
   "name": "python",
   "nbconvert_exporter": "python",
   "pygments_lexer": "ipython3",
   "version": "3.9.16"
  }
 },
 "nbformat": 4,
 "nbformat_minor": 5
}
