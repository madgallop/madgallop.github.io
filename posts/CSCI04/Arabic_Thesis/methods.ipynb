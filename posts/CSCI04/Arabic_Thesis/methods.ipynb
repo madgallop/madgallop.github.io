{
 "cells": [
  {
   "cell_type": "raw",
   "id": "c6dc93d5-4588-4676-948c-1c66175232ee",
   "metadata": {},
   "source": [
    "---\n",
    "title: Methods and References\n",
    "bibliography: refs.bib\n",
    "author: Madeleine Gallop\n",
    "date: '2024-01-27'\n",
    "description: \"This document contains the methods and references used in my senior Arabic thesis about economic protests in Lebanon since 1987.\"\n",
    "format: html\n",
    "---"
   ]
  },
  {
   "attachments": {},
   "cell_type": "markdown",
   "id": "1c0f1a04-7bbb-4e8e-8cfe-d4f75f0a2a1a",
   "metadata": {
    "tags": []
   },
   "source": [
    "## Introduction\n",
    "&emsp;\n",
    "\n",
    "## The Quantitative Approach and Discrimination\n",
    "&emsp;\n",
    "\n",
    "\n",
    "## A More Just Quantitative Approach\n",
    "&emsp;\n",
    "\n",
    "## Conclusion\n",
    "&emsp;"
   ]
  },
  {
   "cell_type": "code",
   "execution_count": null,
   "id": "3fd166e5-c013-449b-8bc2-cce4305cec1c",
   "metadata": {},
   "outputs": [],
   "source": []
  }
 ],
 "metadata": {
  "kernelspec": {
   "display_name": "Python [conda env:ml-0451] *",
   "language": "python",
   "name": "conda-env-ml-0451-py"
  },
  "language_info": {
   "codemirror_mode": {
    "name": "ipython",
    "version": 3
   },
   "file_extension": ".py",
   "mimetype": "text/x-python",
   "name": "python",
   "nbconvert_exporter": "python",
   "pygments_lexer": "ipython3",
   "version": "3.9.16"
  }
 },
 "nbformat": 4,
 "nbformat_minor": 5
}
